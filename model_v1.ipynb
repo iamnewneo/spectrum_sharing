{
 "cells": [
  {
   "cell_type": "code",
   "execution_count": 1,
   "id": "577e8873",
   "metadata": {},
   "outputs": [],
   "source": [
    "import h5py\n",
    "import numpy as np\n",
    "import pandas as pd"
   ]
  },
  {
   "cell_type": "code",
   "execution_count": 2,
   "id": "4fa14b5b",
   "metadata": {},
   "outputs": [],
   "source": [
    "from tqdm import tqdm"
   ]
  },
  {
   "cell_type": "code",
   "execution_count": 3,
   "id": "a009f2e7",
   "metadata": {},
   "outputs": [],
   "source": [
    "import scipy.signal as sig\n",
    "from scipy.fft import fft, fftfreq"
   ]
  },
  {
   "cell_type": "code",
   "execution_count": 4,
   "id": "9bf004df",
   "metadata": {},
   "outputs": [],
   "source": [
    "from sklearn.ensemble import RandomForestClassifier"
   ]
  },
  {
   "cell_type": "code",
   "execution_count": 25,
   "id": "037fed1a",
   "metadata": {},
   "outputs": [],
   "source": [
    "from sklearn.model_selection import train_test_split\n",
    "from sklearn.metrics import accuracy_score, f1_score, auc, roc_curve"
   ]
  },
  {
   "cell_type": "code",
   "execution_count": 5,
   "id": "27e344d7",
   "metadata": {},
   "outputs": [],
   "source": [
    "import matplotlib.pyplot as plt\n",
    "import seaborn as sns\n",
    "%matplotlib inline"
   ]
  },
  {
   "cell_type": "code",
   "execution_count": 6,
   "id": "4ecb5db7",
   "metadata": {},
   "outputs": [],
   "source": [
    "from joblib import Parallel, delayed"
   ]
  },
  {
   "cell_type": "code",
   "execution_count": 7,
   "id": "712bb4f6",
   "metadata": {},
   "outputs": [],
   "source": [
    "arrays = {}\n",
    "with h5py.File(\"./data/Group1/group1_subset_1.mat\", 'r') as f:\n",
    "    for k, v in f.items():\n",
    "        arrays[k] = np.array(v)"
   ]
  },
  {
   "cell_type": "code",
   "execution_count": 8,
   "id": "6967b7fe",
   "metadata": {},
   "outputs": [],
   "source": [
    "y = arrays['group1_radarStatusSubset_1']\n",
    "y = y.reshape(200)"
   ]
  },
  {
   "cell_type": "code",
   "execution_count": 9,
   "id": "67206864",
   "metadata": {},
   "outputs": [],
   "source": [
    "def preprocess_signal(x):\n",
    "    i = np.array([real[0] for real in x])\n",
    "    q = np.array([imag[1] for imag in x])\n",
    "    i_max = i.max()\n",
    "    q_max = q.max()\n",
    "    i_min = i.min()\n",
    "    q_min = q.min()\n",
    "    i_mean = i.mean()\n",
    "    q_mean = q.mean()\n",
    "    i_range = i_max - i_min\n",
    "    q_range = q_max - q_min\n",
    "    num_pts_away_q = (q > 1e-6).sum()\n",
    "    num_pts_away_q += (q < -1e-6).sum()\n",
    "    num_pts_away_i = (i > 1e-6).sum()\n",
    "    num_pts_away_i += (i < -1e-6).sum()\n",
    "    temp = {\n",
    "        \"i_max\": i_max,\n",
    "        \"q_max\": q_max,\n",
    "        \"i_min\": i_min,\n",
    "        \"q_min\": q_min,\n",
    "        \"i_mean\": i_mean,\n",
    "        \"q_mean\": q_mean,\n",
    "        \"i_range\": i_range,\n",
    "        \"q_range\": q_range,\n",
    "        \"num_pts_away_q\": num_pts_away_q,\n",
    "        \"num_pts_away_i\": num_pts_away_i,\n",
    "    }\n",
    "    return temp"
   ]
  },
  {
   "cell_type": "code",
   "execution_count": 10,
   "id": "0103de77",
   "metadata": {},
   "outputs": [],
   "source": [
    "# X = []\n",
    "# for x in tqdm(arrays['group1_waveformSubset_1']):\n",
    "#     X.append(preprocess_signal(x))"
   ]
  },
  {
   "cell_type": "code",
   "execution_count": 11,
   "id": "e4741b30",
   "metadata": {},
   "outputs": [
    {
     "name": "stderr",
     "output_type": "stream",
     "text": [
      "100%|███████████████████████████████████████████████████████████████████████████████████████████████████████████████████████████████████████████| 200/200 [01:46<00:00,  1.88it/s]\n"
     ]
    }
   ],
   "source": [
    "X_preprocessed = Parallel(n_jobs=4)(delayed(preprocess_signal)(x) for x in tqdm(arrays['group1_waveformSubset_1']))"
   ]
  },
  {
   "cell_type": "code",
   "execution_count": 12,
   "id": "a69ab875",
   "metadata": {},
   "outputs": [],
   "source": [
    "df = pd.DataFrame(X_preprocessed)"
   ]
  },
  {
   "cell_type": "code",
   "execution_count": 13,
   "id": "fe7c7238",
   "metadata": {},
   "outputs": [
    {
     "data": {
      "text/html": [
       "<div>\n",
       "<style scoped>\n",
       "    .dataframe tbody tr th:only-of-type {\n",
       "        vertical-align: middle;\n",
       "    }\n",
       "\n",
       "    .dataframe tbody tr th {\n",
       "        vertical-align: top;\n",
       "    }\n",
       "\n",
       "    .dataframe thead th {\n",
       "        text-align: right;\n",
       "    }\n",
       "</style>\n",
       "<table border=\"1\" class=\"dataframe\">\n",
       "  <thead>\n",
       "    <tr style=\"text-align: right;\">\n",
       "      <th></th>\n",
       "      <th>i_max</th>\n",
       "      <th>q_max</th>\n",
       "      <th>i_min</th>\n",
       "      <th>q_min</th>\n",
       "      <th>i_mean</th>\n",
       "      <th>q_mean</th>\n",
       "      <th>i_range</th>\n",
       "      <th>q_range</th>\n",
       "      <th>num_pts_away_q</th>\n",
       "      <th>num_pts_away_i</th>\n",
       "    </tr>\n",
       "  </thead>\n",
       "  <tbody>\n",
       "    <tr>\n",
       "      <th>0</th>\n",
       "      <td>0.000001</td>\n",
       "      <td>0.000001</td>\n",
       "      <td>-0.000001</td>\n",
       "      <td>-0.000001</td>\n",
       "      <td>2.700156e-10</td>\n",
       "      <td>-1.533270e-10</td>\n",
       "      <td>0.000003</td>\n",
       "      <td>0.000002</td>\n",
       "      <td>54</td>\n",
       "      <td>59</td>\n",
       "    </tr>\n",
       "    <tr>\n",
       "      <th>1</th>\n",
       "      <td>0.000001</td>\n",
       "      <td>0.000001</td>\n",
       "      <td>-0.000001</td>\n",
       "      <td>-0.000001</td>\n",
       "      <td>-2.927103e-10</td>\n",
       "      <td>1.172080e-10</td>\n",
       "      <td>0.000002</td>\n",
       "      <td>0.000003</td>\n",
       "      <td>54</td>\n",
       "      <td>55</td>\n",
       "    </tr>\n",
       "    <tr>\n",
       "      <th>2</th>\n",
       "      <td>0.000002</td>\n",
       "      <td>0.000002</td>\n",
       "      <td>-0.000002</td>\n",
       "      <td>-0.000001</td>\n",
       "      <td>4.382238e-10</td>\n",
       "      <td>-1.445831e-10</td>\n",
       "      <td>0.000003</td>\n",
       "      <td>0.000003</td>\n",
       "      <td>65</td>\n",
       "      <td>79</td>\n",
       "    </tr>\n",
       "    <tr>\n",
       "      <th>3</th>\n",
       "      <td>0.000001</td>\n",
       "      <td>0.000001</td>\n",
       "      <td>-0.000001</td>\n",
       "      <td>-0.000001</td>\n",
       "      <td>3.231834e-10</td>\n",
       "      <td>-8.700088e-11</td>\n",
       "      <td>0.000002</td>\n",
       "      <td>0.000002</td>\n",
       "      <td>55</td>\n",
       "      <td>40</td>\n",
       "    </tr>\n",
       "    <tr>\n",
       "      <th>4</th>\n",
       "      <td>0.000001</td>\n",
       "      <td>0.000001</td>\n",
       "      <td>-0.000001</td>\n",
       "      <td>-0.000001</td>\n",
       "      <td>2.754731e-10</td>\n",
       "      <td>-1.286641e-11</td>\n",
       "      <td>0.000002</td>\n",
       "      <td>0.000002</td>\n",
       "      <td>38</td>\n",
       "      <td>50</td>\n",
       "    </tr>\n",
       "  </tbody>\n",
       "</table>\n",
       "</div>"
      ],
      "text/plain": [
       "      i_max     q_max     i_min     q_min        i_mean        q_mean  \\\n",
       "0  0.000001  0.000001 -0.000001 -0.000001  2.700156e-10 -1.533270e-10   \n",
       "1  0.000001  0.000001 -0.000001 -0.000001 -2.927103e-10  1.172080e-10   \n",
       "2  0.000002  0.000002 -0.000002 -0.000001  4.382238e-10 -1.445831e-10   \n",
       "3  0.000001  0.000001 -0.000001 -0.000001  3.231834e-10 -8.700088e-11   \n",
       "4  0.000001  0.000001 -0.000001 -0.000001  2.754731e-10 -1.286641e-11   \n",
       "\n",
       "    i_range   q_range  num_pts_away_q  num_pts_away_i  \n",
       "0  0.000003  0.000002              54              59  \n",
       "1  0.000002  0.000003              54              55  \n",
       "2  0.000003  0.000003              65              79  \n",
       "3  0.000002  0.000002              55              40  \n",
       "4  0.000002  0.000002              38              50  "
      ]
     },
     "execution_count": 13,
     "metadata": {},
     "output_type": "execute_result"
    }
   ],
   "source": [
    "df.head()"
   ]
  },
  {
   "cell_type": "code",
   "execution_count": 74,
   "id": "9afc488e",
   "metadata": {},
   "outputs": [],
   "source": [
    "X_train, X_test, y_train, y_test = train_test_split(df, y, test_size=0.3)"
   ]
  },
  {
   "cell_type": "code",
   "execution_count": 96,
   "id": "21996f94",
   "metadata": {},
   "outputs": [],
   "source": [
    "clf = RandomForestClassifier(max_depth=4, random_state=12)"
   ]
  },
  {
   "cell_type": "code",
   "execution_count": 97,
   "id": "b2a8cdce",
   "metadata": {},
   "outputs": [
    {
     "data": {
      "text/plain": [
       "RandomForestClassifier(max_depth=4, random_state=12)"
      ]
     },
     "execution_count": 97,
     "metadata": {},
     "output_type": "execute_result"
    }
   ],
   "source": [
    "clf.fit(X_train, y_train)"
   ]
  },
  {
   "cell_type": "code",
   "execution_count": 98,
   "id": "64cb83b1",
   "metadata": {},
   "outputs": [],
   "source": [
    "y_pred = clf.predict(X_test)"
   ]
  },
  {
   "cell_type": "code",
   "execution_count": 99,
   "id": "02b5b2b5",
   "metadata": {},
   "outputs": [
    {
     "data": {
      "text/plain": [
       "0.9333333333333333"
      ]
     },
     "execution_count": 99,
     "metadata": {},
     "output_type": "execute_result"
    }
   ],
   "source": [
    "accuracy_score(y_test, y_pred)"
   ]
  },
  {
   "cell_type": "code",
   "execution_count": 100,
   "id": "44e4c2a6",
   "metadata": {},
   "outputs": [
    {
     "data": {
      "text/plain": [
       "0.9130434782608695"
      ]
     },
     "execution_count": 100,
     "metadata": {},
     "output_type": "execute_result"
    }
   ],
   "source": [
    "f1_score(y_test, y_pred)"
   ]
  },
  {
   "cell_type": "code",
   "execution_count": 101,
   "id": "172bf7ad",
   "metadata": {},
   "outputs": [],
   "source": [
    "fpr, tpr, thresholds = roc_curve(y_test, y_pred)"
   ]
  },
  {
   "cell_type": "code",
   "execution_count": 102,
   "id": "6e07ab5d",
   "metadata": {},
   "outputs": [
    {
     "data": {
      "text/plain": [
       "0.9236111111111112"
      ]
     },
     "execution_count": 102,
     "metadata": {},
     "output_type": "execute_result"
    }
   ],
   "source": [
    "auc(fpr, tpr)"
   ]
  },
  {
   "cell_type": "code",
   "execution_count": 103,
   "id": "a47b0538",
   "metadata": {},
   "outputs": [
    {
     "data": {
      "text/plain": [
       "105"
      ]
     },
     "execution_count": 103,
     "metadata": {},
     "output_type": "execute_result"
    }
   ],
   "source": [
    "y.sum()"
   ]
  },
  {
   "cell_type": "code",
   "execution_count": null,
   "id": "9a7b7c79",
   "metadata": {},
   "outputs": [],
   "source": []
  }
 ],
 "metadata": {
  "kernelspec": {
   "display_name": "Python 3 (ipykernel)",
   "language": "python",
   "name": "python3"
  },
  "language_info": {
   "codemirror_mode": {
    "name": "ipython",
    "version": 3
   },
   "file_extension": ".py",
   "mimetype": "text/x-python",
   "name": "python",
   "nbconvert_exporter": "python",
   "pygments_lexer": "ipython3",
   "version": "3.8.5"
  }
 },
 "nbformat": 4,
 "nbformat_minor": 5
}
